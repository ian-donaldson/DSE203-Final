{
 "cells": [
  {
   "cell_type": "code",
   "execution_count": 57,
   "metadata": {},
   "outputs": [],
   "source": [
    "import json\n",
    "import requests\n",
    "from bs4 import BeautifulSoup as BS"
   ]
  },
  {
   "cell_type": "code",
   "execution_count": 53,
   "metadata": {},
   "outputs": [],
   "source": [
    "# list of urls\n",
    "d = {}\n",
    "urls = ['https://en.wikipedia.org/wiki/Alibaba_Group', 'https://en.wikipedia.org/wiki/Amazon_(company)', 'https://en.wikipedia.org/wiki/EBay']\n",
    "\n",
    "# layout of wiki page is standardized\n",
    "# text content is all in p tags\n",
    "for u in urls:\n",
    "    \n",
    "    # dictionary to to hold text information by url\n",
    "    # in case we try and crawl all on a central notebook\n",
    "    d[u] = []\n",
    "    wiki_pg = requests.get(u)\n",
    "    soup = BS(wiki_pg.content, 'lxml')\n",
    "    toc = str(soup.find(id='toc'))\n",
    "    \n",
    "    soup_toc = BS(toc, 'lxml')\n",
    "    \n",
    "    toc_num = soup.find_all('span', {\"class\" : 'tocnumber'})\n",
    "    toc_data = soup.find_all('span', {\"class\" : 'toctext'})\n",
    "    \n",
    "    d[u] = (toc_num, toc_data)"
   ]
  },
  {
   "cell_type": "code",
   "execution_count": 58,
   "metadata": {},
   "outputs": [
    {
     "name": "stdout",
     "output_type": "stream",
     "text": [
      "https://en.wikipedia.org/wiki/EBay\n",
      "{\"Controversy and criticism\": [\"2014 security breach\"], \"See also\": [], \"History\": [\"1990s\", \"2000s\", \"2010s\"], \"External links\": [], \"References\": [], \"Corporate affairs\": [\"Board of directors\", \"Logo\", \"Profit and transactions\", \"Environmental record\", \"Acquisitions\", \"PayPal\", \"Craigslist\", \"Skype\", \"StubHub\", \"Corrigon\", \"Qoo10.jp\"], \"Use for data analysis\": [\"Third party\", \"Visual search\", \"GCHQ\", \"Items\", \"Unusual items\", \"Prohibited or restricted items\", \"Bidding\", \"Auction-style listings\", \"Seller ratings\", \"Charity auctions\", \"Shipping\"]}\n",
      "######\n",
      "https://en.wikipedia.org/wiki/Amazon_(company)\n",
      "{\"External links\": [], \"See also\": [], \"History\": [], \"Products and services\": [], \"Further reading\": [], \"Merchant partnerships\": [], \"Multi-level sales strategy\": [], \"Subsidiaries\": [\"A9.com\", \"Amazon Maritime\", \"Audible.com\", \"Beijing Century Joyo Courier Services\", \"Brilliance Audio\", \"ComiXology\", \"CreateSpace\", \"Eero\", \"Goodreads\", \"Health Navigator\", \"Lab126\", \"Kuiper Systems\", \"Ring\", \"Shelfari\", \"Souq\", \"Twitch\", \"Whole Foods Market\", \"Junglee\"], \"Website\": [\"Reviews\", \"Content search\", \"Third-party sellers\"], \"Lobbying\": [], \"Board of directors\": [], \"Amazon sales rank\": [], \"Controversies\": [\"Environmental impact\", \"Selling counterfeit items\", \"Sales and use taxes\", \"Income taxes\", \"Comments by Donald Trump and Bernie Sanders\", \"Working conditions\", \"Conflict of interest with the CIA and DOD\", \"Seattle head tax and houselessness services\", \"Nashville Operations Center of Excellence\", \"Facial recognition technology and law enforcement\"], \"References\": [], \"Supply chain\": [], \"Finances\": []}\n",
      "######\n",
      "https://en.wikipedia.org/wiki/Alibaba_Group\n",
      "{\"Companies and affiliated entities\": [\"E-commerce and retail service platforms\", \"Cloud computing and artificial intelligence technology\", \"FinTech and online payment platforms\", \"Entertainment services\", \"Internet services\", \"Others\"], \"See also\": [], \"History\": [], \"Controversies\": [\"Gold Supplier membership\", \"Uranium sales\", \"Counterfeit items and scams\", \"Class action on IPO\"], \"Corporate governance\": [], \"External links\": [], \"Naming\": [], \"References\": []}\n",
      "######\n"
     ]
    }
   ],
   "source": [
    "for u in d.keys():\n",
    "    \n",
    "    toc_dict = {}\n",
    "    toc_num, toc_data = d[u]\n",
    "    \n",
    "    # generate list of keys\n",
    "    keys = {}\n",
    "    for i in range(len(toc_num)):\n",
    "        \n",
    "        if '.' not in toc_num[i].text:\n",
    "            keys[toc_num[i].text] = toc_data[i].text\n",
    "    \n",
    "    # actually add to dictionary now\n",
    "    for i in range(len(toc_num)):\n",
    "        \n",
    "        if '.' not in toc_num[i].text:\n",
    "            toc_dict[toc_data[i].text] = []\n",
    "            continue\n",
    "            \n",
    "        num = toc_num[i].text.split('.')[0]\n",
    "        key = keys[num]\n",
    "        \n",
    "        if key in toc_dict:\n",
    "            toc_dict[key].append(toc_data[i].text)\n",
    "        else:\n",
    "            toc_dict[key] = [toc_data[i].text]\n",
    "        \n",
    "    print (u)\n",
    "    print (json.dumps(toc_dict))\n",
    "    print ('######')"
   ]
  },
  {
   "cell_type": "code",
   "execution_count": null,
   "metadata": {},
   "outputs": [],
   "source": []
  },
  {
   "cell_type": "code",
   "execution_count": null,
   "metadata": {},
   "outputs": [],
   "source": []
  }
 ],
 "metadata": {
  "kernelspec": {
   "display_name": "Python 3",
   "language": "python",
   "name": "python3"
  },
  "language_info": {
   "codemirror_mode": {
    "name": "ipython",
    "version": 3
   },
   "file_extension": ".py",
   "mimetype": "text/x-python",
   "name": "python",
   "nbconvert_exporter": "python",
   "pygments_lexer": "ipython3",
   "version": "3.5.5"
  }
 },
 "nbformat": 4,
 "nbformat_minor": 2
}
