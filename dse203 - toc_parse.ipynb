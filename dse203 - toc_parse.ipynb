{
 "cells": [
  {
   "cell_type": "code",
   "execution_count": 11,
   "metadata": {},
   "outputs": [],
   "source": [
    "import json\n",
    "import requests\n",
    "from bs4 import BeautifulSoup as BS"
   ]
  },
  {
   "cell_type": "code",
   "execution_count": 12,
   "metadata": {},
   "outputs": [],
   "source": [
    "# list of urls\n",
    "d = {}\n",
    "urls = ['https://en.wikipedia.org/wiki/Alibaba_Group', \n",
    "        'https://en.wikipedia.org/wiki/Amazon_(company)', \n",
    "        'https://en.wikipedia.org/wiki/EBay', \n",
    "        'https://en.wikipedia.org/wiki/Walmart'\n",
    "       ]\n",
    "data_to_output = {}\n",
    "# layout of wiki page is standardized\n",
    "# text content is all in p tags\n",
    "for u in urls:\n",
    "    \n",
    "    # dictionary to to hold text information by url\n",
    "    # in case we try and crawl all on a central notebook\n",
    "    d[u] = []\n",
    "    wiki_pg = requests.get(u)\n",
    "    soup = BS(wiki_pg.content, 'lxml')\n",
    "    toc = str(soup.find(id='toc'))\n",
    "    \n",
    "    soup_toc = BS(toc, 'lxml')\n",
    "    \n",
    "    toc_num = soup.find_all('span', {\"class\" : 'tocnumber'})\n",
    "    toc_data = soup.find_all('span', {\"class\" : 'toctext'})\n",
    "    \n",
    "    d[u] = (toc_num, toc_data)"
   ]
  },
  {
   "cell_type": "code",
   "execution_count": 13,
   "metadata": {},
   "outputs": [
    {
     "name": "stdout",
     "output_type": "stream",
     "text": [
      "https://en.wikipedia.org/wiki/Alibaba_Group\n",
      "{\"Naming\": [], \"History\": [], \"Companies and affiliated entities\": [\"E-commerce and retail service platforms\", \"Cloud computing and artificial intelligence technology\", \"FinTech and online payment platforms\", \"Entertainment services\", \"Internet services\", \"Others\"], \"Corporate governance\": [], \"Controversies\": [\"Gold Supplier membership\", \"Uranium sales\", \"Counterfeit items and scams\", \"Class action on IPO\"], \"See also\": [], \"References\": [], \"External links\": []}\n",
      "######\n",
      "https://en.wikipedia.org/wiki/Amazon_(company)\n",
      "{\"History\": [], \"Board of directors\": [], \"Merchant partnerships\": [], \"Products and services\": [], \"Subsidiaries\": [\"A9.com\", \"Amazon Maritime\", \"Audible.com\", \"Beijing Century Joyo Courier Services\", \"Brilliance Audio\", \"ComiXology\", \"CreateSpace\", \"Eero\", \"Goodreads\", \"Health Navigator\", \"Lab126\", \"Kuiper Systems\", \"Ring\", \"Shelfari\", \"Souq\", \"Twitch\", \"Whole Foods Market\", \"Junglee\"], \"Supply chain\": [], \"Website\": [\"Reviews\", \"Content search\", \"Third-party sellers\"], \"Amazon sales rank\": [], \"Multi-level sales strategy\": [], \"Finances\": [], \"Controversies\": [\"Environmental impact\", \"Selling counterfeit items\", \"Sales and use taxes\", \"Income taxes\", \"Comments by Donald Trump and Bernie Sanders\", \"Working conditions\", \"Conflict of interest with the CIA and DOD\", \"Seattle head tax and houselessness services\", \"Nashville Operations Center of Excellence\", \"Facial recognition technology and law enforcement\"], \"Lobbying\": [], \"See also\": [], \"References\": [], \"Further reading\": [], \"External links\": []}\n",
      "######\n",
      "https://en.wikipedia.org/wiki/EBay\n",
      "{\"History\": [\"1990s\", \"2000s\", \"2010s\"], \"Corporate affairs\": [\"Board of directors\", \"Logo\", \"Profit and transactions\", \"Environmental record\", \"Acquisitions\", \"PayPal\", \"Craigslist\", \"Skype\", \"StubHub\", \"Corrigon\", \"Qoo10.jp\"], \"Use for data analysis\": [\"Third party\", \"Visual search\", \"GCHQ\", \"Items\", \"Unusual items\", \"Prohibited or restricted items\", \"Bidding\", \"Auction-style listings\", \"Seller ratings\", \"Charity auctions\", \"Shipping\"], \"Controversy and criticism\": [\"2014 security breach\"], \"See also\": [], \"References\": [], \"External links\": []}\n",
      "######\n",
      "https://en.wikipedia.org/wiki/Walmart\n",
      "{\"History\": [\"1945\\u20131969: Early history\", \"1969\\u20131990: Incorporation and growth as a regional power\", \"1990\\u20132005: Retail rise to multinational status\", \"2005\\u20132010: Initiatives\", \"Environmental initiatives\", \"Branding and store design changes\", \"Acquisitions and employee benefits\", \"2011\\u2013present: Continued developments\"], \"Operating divisions\": [\"Walmart U.S.\", \"Walmart Supercenter\", \"Walmart Discount Store\", \"Walmart Neighborhood Market\", \"Former stores and concepts\", \"Initiatives\", \"Numbers of stores by state\", \"Retail innovation by state\", \"Walmart International\", \"Argentina\", \"Central America\", \"Chile\", \"Mexico\", \"Canada\", \"United Kingdom\", \"Africa\", \"China\", \"Japan\", \"India\", \"Setbacks\", \"Corruption charges\", \"Sam's Club\", \"Global eCommerce\"], \"Subsidiaries\": [\"Vudu\", \"Private label brands\", \"Entertainment\", \"Online commerce acquisitions and plans\"], \"Corporate affairs\": [\"Finance and governance\", \"Ownership\", \"Competition\", \"Customer base\", \"Sales of guns and ammunition\", \"Technology\", \"Open source software\", \"Big data analytics\"], \"Charity\": [], \"Economic impact\": [], \"Labor relations\": [\"Gender\", \"Sexual orientation and gender identity\"], \"Criticism and controversies\": [\"2010s crime problem\"], \"See also\": [], \"References\": [], \"Further reading\": [], \"External links\": []}\n",
      "######\n"
     ]
    }
   ],
   "source": [
    "for u in d.keys():\n",
    "    \n",
    "    toc_dict = {}\n",
    "    toc_num, toc_data = d[u]\n",
    "    \n",
    "    # generate list of keys\n",
    "    keys = {}\n",
    "    for i in range(len(toc_num)):\n",
    "        \n",
    "        if '.' not in toc_num[i].text:\n",
    "            keys[toc_num[i].text] = toc_data[i].text\n",
    "    \n",
    "    # actually add to dictionary now\n",
    "    for i in range(len(toc_num)):\n",
    "        \n",
    "        if '.' not in toc_num[i].text:\n",
    "            toc_dict[toc_data[i].text] = []\n",
    "            continue\n",
    "            \n",
    "        num = toc_num[i].text.split('.')[0]\n",
    "        key = keys[num]\n",
    "        \n",
    "        if key in toc_dict:\n",
    "            toc_dict[key].append(toc_data[i].text)\n",
    "        else:\n",
    "            toc_dict[key] = [toc_data[i].text]\n",
    "    \n",
    "    company_name = u.split(\"/wiki/\")[1]\n",
    "    data_to_output[company_name] = toc_dict\n",
    "    print (u)\n",
    "    print (json.dumps(toc_dict))\n",
    "    print ('######')\n"
   ]
  },
  {
   "cell_type": "code",
   "execution_count": 15,
   "metadata": {},
   "outputs": [],
   "source": [
    "#print to file\n",
    "with open('table_of_content.txt', 'w') as outfile:\n",
    "    json.dump(data_to_output, outfile)\n"
   ]
  },
  {
   "cell_type": "code",
   "execution_count": null,
   "metadata": {},
   "outputs": [],
   "source": []
  }
 ],
 "metadata": {
  "kernelspec": {
   "display_name": "Python 3",
   "language": "python",
   "name": "python3"
  },
  "language_info": {
   "codemirror_mode": {
    "name": "ipython",
    "version": 3
   },
   "file_extension": ".py",
   "mimetype": "text/x-python",
   "name": "python",
   "nbconvert_exporter": "python",
   "pygments_lexer": "ipython3",
   "version": "3.6.5"
  }
 },
 "nbformat": 4,
 "nbformat_minor": 2
}
