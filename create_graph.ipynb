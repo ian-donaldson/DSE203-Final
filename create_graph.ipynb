{
 "cells": [
  {
   "cell_type": "markdown",
   "metadata": {},
   "source": [
    "## Import pakages."
   ]
  },
  {
   "cell_type": "code",
   "execution_count": 1,
   "metadata": {},
   "outputs": [],
   "source": [
    "import re\n",
    "import csv\n",
    "import json\n",
    "import neo4j\n",
    "import py2neo\n",
    "from pprint import pprint\n",
    "from py2neo import Database\n",
    "from py2neo import Graph, Node, Relationship, NodeMatcher"
   ]
  },
  {
   "cell_type": "markdown",
   "metadata": {},
   "source": [
    "## Data preparation."
   ]
  },
  {
   "cell_type": "code",
   "execution_count": 2,
   "metadata": {},
   "outputs": [],
   "source": [
    "def get_val(data:dict,key:str) -> str:\n",
    "    \n",
    "    ''' Get values from dictionary, \n",
    "        if key not in dictionary return None '''\n",
    "    \n",
    "    if key not in data.keys():\n",
    "        return None\n",
    "    elif data[key]=='':\n",
    "        return None\n",
    "    else:\n",
    "        return data[key]"
   ]
  },
  {
   "cell_type": "markdown",
   "metadata": {},
   "source": [
    "### Acquisition for all companies.\n",
    "\n",
    "Created a csv file with company acquisition, year and amount."
   ]
  },
  {
   "cell_type": "code",
   "execution_count": 3,
   "metadata": {},
   "outputs": [],
   "source": [
    "# Dictiionary for acquisition. {company:{acquired_company:[year, amount]}...}\n",
    "acquisition={}\n",
    "with open('./info_box/Acquisition.csv') as Acquisition:\n",
    "    acquisition_all = csv.DictReader(Acquisition)\n",
    "    for row in acquisition_all:\n",
    "        if row['Company'] in acquisition.keys():\n",
    "            acquisition[row['Company']][row['Acquisition']]= [get_val(row,'Year'),get_val(row,'Amount')]\n",
    "        else:\n",
    "            acquisition[row['Company']]={}\n",
    "            acquisition[row['Company']][row['Acquisition']] = [get_val(row,'Year'),get_val(row,'Amount')]\n",
    "        "
   ]
  },
  {
   "cell_type": "code",
   "execution_count": 4,
   "metadata": {},
   "outputs": [
    {
     "name": "stdout",
     "output_type": "stream",
     "text": [
      "{'Alibaba Group': {'Alibaba Pictures': ['2014', ' $805 million'],\n",
      "                   'Vendio': ['2010', None],\n",
      "                   'Youku': ['2015', None]},\n",
      " 'Walmart': {'Asda': [None, None],\n",
      "             'Jet.com': ['2016', None],\n",
      "             'Kmart': ['1993', None],\n",
      "             'Moosejaw': ['2017', '$51 million'],\n",
      "             'Vudu': ['2010', '$100 million']}}\n"
     ]
    }
   ],
   "source": [
    "pprint(acquisition)"
   ]
  },
  {
   "cell_type": "markdown",
   "metadata": {},
   "source": [
    "### NAICS Code: Create company_naics_code dictionary.\n",
    "\n",
    "Note: Add company name to the company list in \"scrape_naics.py\".\n",
    "\n",
    "- Youtube ==> Youku \"can not find company\" ;\n",
    "\n",
    "- Paramount Pictures ==> Alibaba Pictures \"can not find company\" \n",
    "\n",
    "company_list = ['Alibaba', 'Walmart', 'eBay', 'Amazon','Youtube','Paramount Pictures','Costco','Kroger','Target','Vudu','Jet.com','Kmart']"
   ]
  },
  {
   "cell_type": "code",
   "execution_count": 5,
   "metadata": {},
   "outputs": [],
   "source": [
    "# Unique naics codes.\n",
    "naics=dict() \n",
    "# Company and 6 digits Naics Code, which we need create relation between code and company. \n",
    "company_code=dict() \n",
    "\n",
    "with open('./naics_scrape/naics_scraped.csv') as file:\n",
    "    data = csv.DictReader(file)\n",
    "    for row in data:\n",
    "        company = row['Company']\n",
    "        code = row['NAICS_CODE']\n",
    "        title = row['NAICS_TITLE']\n",
    "        naics[code] = title\n",
    "        if company not in company_code.keys():\n",
    "             company_code[company]=code\n",
    "                \n",
    "# Change 'Youtube' and 'Paramount Pictures' to 'Youku' and 'Alibaba Pictures'.\n",
    "company_code['Youku'] = company_code['Youtube']\n",
    "company_code['Alibaba Pictures'] = company_code['Paramount Pictures']\n",
    "company_code['Alibaba Group'] = company_code['Alibaba']\n",
    "del company_code['Youtube']\n",
    "del company_code['Paramount Pictures']\n",
    "del company_code['Alibaba']\n",
    "\n",
    "# Extract unique root code.\n",
    "root_code = [code for code in naics.keys() if len(code)==2 or re.match('\\d+-\\d+',code)]\n",
    "\n",
    "# Code with 6 digits.\n",
    "code6 = [code for code in naics.keys() if len(code)==6]\n",
    "# Code with 5 digits.\n",
    "code5 = [code for code in naics.keys() if len(code)==5 and not re.match('\\d+-\\d+',code)]\n",
    "# Code with 4 digits.\n",
    "code4 = [code for code in naics.keys() if len(code)==4]\n",
    "# Code with 3 digits.\n",
    "code3 = [code for code in naics.keys() if len(code)==3]\n"
   ]
  },
  {
   "cell_type": "code",
   "execution_count": 6,
   "metadata": {},
   "outputs": [
    {
     "name": "stdout",
     "output_type": "stream",
     "text": [
      "['56', '44-45', '42', '51', '31-33', '23']\n",
      "['561', '445', '443', '423', '512', '446', '336', '518', '237']\n",
      "['5619', '4451', '4431', '4237', '5121', '4461', '3364', '5182', '2379']\n",
      "['56199', '44511', '44314', '42372', '51219', '44611', '33641', '51821', '23799']\n",
      "['561990', '445110', '443142', '423720', '512191', '446110', '336413', '518210', '237990'] \n",
      "\n",
      "{'Alibaba Group': '561990',\n",
      " 'Alibaba Pictures': '512191',\n",
      " 'Amazon': '443142',\n",
      " 'Costco': '446110',\n",
      " 'Jet.com': '237990',\n",
      " 'Kmart': '445110',\n",
      " 'Kroger': '445110',\n",
      " 'Target': '336413',\n",
      " 'Vudu': '518210',\n",
      " 'Walmart': '445110',\n",
      " 'Youku': '423720',\n",
      " 'eBay': '561990'}\n"
     ]
    }
   ],
   "source": [
    "print(root_code)\n",
    "print(code3)\n",
    "print(code4)\n",
    "print(code5)\n",
    "print(code6,'\\n')\n",
    "pprint(company_code)"
   ]
  },
  {
   "cell_type": "code",
   "execution_count": 7,
   "metadata": {},
   "outputs": [
    {
     "data": {
      "text/plain": [
       "{'561990': 'All Other Support Services',\n",
       " '56199': 'All Other Support Services',\n",
       " '5619': 'Other Support Services',\n",
       " '561': 'Administrative and Support Services',\n",
       " '56': 'Administrative and Support and Waste Management and Remediation Services',\n",
       " '445110': 'Supermarkets and Other Grocery (except Convenience) Stores',\n",
       " '44511': 'Supermarkets and Other Grocery (except Convenience) Stores',\n",
       " '4451': 'Grocery Stores',\n",
       " '445': 'Food and Beverage Stores',\n",
       " '44-45': 'Retail Trade',\n",
       " '443142': 'Electronics Stores',\n",
       " '44314': 'Electronics and Appliance Stores',\n",
       " '4431': 'Electronics and Appliance Stores',\n",
       " '443': 'Electronics and Appliance Stores',\n",
       " '423720': 'Plumbing and Heating Equipment and Supplies (Hydronics) Merchant Wholesalers',\n",
       " '42372': 'Plumbing and Heating Equipment and Supplies (Hydronics) Merchant Wholesalers',\n",
       " '4237': 'Hardware, and Plumbing and Heating Equipment and Supplies Merchant Wholesalers',\n",
       " '423': 'Merchant Wholesalers, Durable Goods',\n",
       " '42': 'Wholesale Trade',\n",
       " '512191': 'Teleproduction and Other Postproduction Services',\n",
       " '51219': 'Postproduction Services and Other Motion Picture and Video Industries',\n",
       " '5121': 'Motion Picture and Video Industries',\n",
       " '512': 'Motion Picture and Sound Recording Industries',\n",
       " '51': 'Information',\n",
       " '446110': 'Pharmacies and Drug Stores',\n",
       " '44611': 'Pharmacies and Drug Stores',\n",
       " '4461': 'Health and Personal Care Stores',\n",
       " '446': 'Health and Personal Care Stores',\n",
       " '336413': 'Other Aircraft Parts and Auxiliary Equipment Manufacturing',\n",
       " '33641': 'Aerospace Product and Parts Manufacturing',\n",
       " '3364': 'Aerospace Product and Parts Manufacturing',\n",
       " '336': 'Transportation Equipment Manufacturing',\n",
       " '31-33': 'Manufacturing',\n",
       " '518210': 'Data Processing, Hosting, and Related Services',\n",
       " '51821': 'Data Processing, Hosting, and Related Services',\n",
       " '5182': 'Data Processing, Hosting, and Related Services',\n",
       " '518': 'Data Processing, Hosting, and Related Services',\n",
       " '237990': 'Other Heavy and Civil Engineering Construction',\n",
       " '23799': 'Other Heavy and Civil Engineering Construction',\n",
       " '2379': 'Other Heavy and Civil Engineering Construction',\n",
       " '237': 'Heavy and Civil Engineering Construction',\n",
       " '23': 'Construction'}"
      ]
     },
     "execution_count": 7,
     "metadata": {},
     "output_type": "execute_result"
    }
   ],
   "source": [
    "naics"
   ]
  },
  {
   "cell_type": "markdown",
   "metadata": {},
   "source": [
    "## Create graph. \n",
    "### Company Nodes and relationships"
   ]
  },
  {
   "cell_type": "markdown",
   "metadata": {},
   "source": [
    "**NOTE** : I used the script in `'./scrapy_spider/scrapy_spider/spiders/wiki_spider_info.py'` to extracted the info box and saved in `info_box` folder."
   ]
  },
  {
   "cell_type": "code",
   "execution_count": 8,
   "metadata": {},
   "outputs": [],
   "source": [
    "def Create_Company_Node(json):\n",
    "    \n",
    "    '''Create company node'''\n",
    "    \n",
    "    company_node = Node('Company', \n",
    "                    name=get_val(json,'Title'),\n",
    "                    organization_name=get_val(json,'Organization_name'),\n",
    "                    founded=get_val(json,'Founded'),\n",
    "                    founder=get_val(json,'Founder'),\n",
    "                    industry=get_val(json,'industry'), \n",
    "                    products=get_val(json,'Products'), \n",
    "                    services=get_val(json,'Services'), \n",
    "                    revenue=get_val(json,'Revenue'), \n",
    "                    employees=get_val(json,'Number of employees'),\n",
    "                    website=get_val(json,'Website'))\n",
    "    \n",
    "    company_node.__primarylabel__ = \"Company\"\n",
    "    company_node.__primarykey__ = \"name\"\n",
    "    \n",
    "    return company_node"
   ]
  },
  {
   "cell_type": "code",
   "execution_count": 10,
   "metadata": {},
   "outputs": [],
   "source": [
    "# Connect database.(set your own password)\n",
    "g = Graph(host='localhost',user='neo4j',password='1234') \n",
    "tx = g.begin()\n",
    "\n",
    "# Main company_Alibaba.\n",
    "with open('./info_box/main_company.json') as main_company:\n",
    "    data = json.load(main_company)\n",
    "    for d in data:\n",
    "        Alibaba = Create_Company_Node(d)         \n",
    "        tx.create(Alibaba)\n",
    "\n",
    "# Competitor_Alibaba. \n",
    "# ** Please chage the Amazon title in Competitor_Alibaba.json': \"Amazon (Company)\" --> \"Amazon\" ** \n",
    "with open('./info_box/Competitor_Alibaba.json') as competitors:\n",
    "    data = json.load(competitors)\n",
    "    for d in data:\n",
    "        company_node = Create_Company_Node(d)\n",
    "        relation = Relationship(Alibaba,'Competitor',company_node)\n",
    "        tx.create(relation)\n",
    "        \n",
    "# Acquisition_Alibaba.\n",
    "with open('./info_box/Acquisition_Alibaba.json') as acquisitions:\n",
    "    data = json.load(acquisitions)\n",
    "    for d in data:\n",
    "        company_name = d['Title']\n",
    "        company_node = Create_Company_Node(d)\n",
    "        Y = acquisition['Alibaba Group'][company_name][0]\n",
    "        A = acquisition['Alibaba Group'][company_name][1]\n",
    "        relation = Relationship(Alibaba,'Acquired',company_node,year=Y,amount=A)\n",
    "        tx.create(relation)        \n",
    "\n",
    "tx.commit()"
   ]
  },
  {
   "cell_type": "code",
   "execution_count": 11,
   "metadata": {},
   "outputs": [],
   "source": [
    "# Connect database.(set your own password)\n",
    "g = Graph(host='localhost',user='neo4j',password='1234')\n",
    "matcher = NodeMatcher(g)\n",
    "tx = g.begin()\n",
    "\n",
    "# Find Walmart node.\n",
    "Walmart = matcher.match('Company',name='Walmart').first()\n",
    "\n",
    "# Competitor_Walmart.\n",
    "with open('./info_box/Competitor_Walmart.json') as competitors:\n",
    "    data = json.load(competitors)\n",
    "    for d in data:\n",
    "        company_node = Create_Company_Node(d)\n",
    "        relation = Relationship(Walmart,'Competitor',company_node)\n",
    "        tx.create(relation)\n",
    "\n",
    "# Acquisition_Walmart. \n",
    "with open('./info_box/Acquisition_Walmart.json') as acquisitions:\n",
    "    data = json.load(acquisitions)\n",
    "    for d in data:\n",
    "        company_name = d['Title']\n",
    "        company_node = Create_Company_Node(d)\n",
    "        Y = acquisition['Walmart'][company_name][0]\n",
    "        A = acquisition['Walmart'][company_name][1]\n",
    "        relation = Relationship(Walmart,'Acquired',company_node,year=Y,amount=A)\n",
    "        tx.create(relation)\n",
    "        \n",
    "tx.commit()"
   ]
  },
  {
   "cell_type": "markdown",
   "metadata": {},
   "source": [
    "### NAICS code nodes and relationships."
   ]
  },
  {
   "cell_type": "code",
   "execution_count": 12,
   "metadata": {},
   "outputs": [],
   "source": [
    "def Create_Code_Node(code):\n",
    "    \n",
    "    '''Create NAICS Ccode node'''\n",
    "    \n",
    "    code_node = Node('NAICS', code=code, title=naics[code])\n",
    "    \n",
    "    code_node.__primarylabel__ = \"NAICS\"\n",
    "    code_node.__primarykey__ = \"code\"\n",
    "    \n",
    "    return code_node\n",
    "    "
   ]
  },
  {
   "cell_type": "code",
   "execution_count": 13,
   "metadata": {},
   "outputs": [],
   "source": [
    "def Check_Code_Node(code):\n",
    "    \n",
    "    '''Check if NAICS Ccode node already exists'''\n",
    "    \n",
    "    node = matcher.match('NAICS', code=code)\n",
    "    \n",
    "    if node == None:\n",
    "        new = Create_Code_Node(code)\n",
    "        return new\n",
    "    else:\n",
    "        return node"
   ]
  },
  {
   "cell_type": "markdown",
   "metadata": {},
   "source": [
    "#### Root Code. "
   ]
  },
  {
   "cell_type": "code",
   "execution_count": 14,
   "metadata": {},
   "outputs": [],
   "source": [
    "# Connect database.(set your own password)\n",
    "g = Graph(host='localhost',user='neo4j',password='1234')\n",
    "tx = g.begin()\n",
    "\n",
    "# Create Root Code Node. (2-digits or d-d)\n",
    "for root in root_code:\n",
    "    root_node = Create_Code_Node(root)\n",
    "    tx.create(root_node)\n",
    "    \n",
    "tx.commit()"
   ]
  },
  {
   "cell_type": "markdown",
   "metadata": {},
   "source": [
    "#### 3-digit-code"
   ]
  },
  {
   "cell_type": "code",
   "execution_count": 15,
   "metadata": {},
   "outputs": [],
   "source": [
    "# Connect database.(set your own password)\n",
    "g = Graph(host='localhost',user='neo4j',password='1234')\n",
    "tx = g.begin()\n",
    "matcher = NodeMatcher(g)\n",
    "\n",
    "# Create 3-digit-code Node.\n",
    "for code in code3:\n",
    "    node3 = Create_Code_Node(code)\n",
    "    \n",
    "    # Find the root code node.\n",
    "    if code[:-1] in ['44','45']:\n",
    "        node2 = matcher.match('NAICS', code='44-45').first()    \n",
    "    elif code[:-1] in ['31','33']:\n",
    "        node2 = matcher.match('NAICS', code='31-33').first()\n",
    "    else:\n",
    "        node2 = matcher.match('NAICS', code=code[:-1]).first()\n",
    "        \n",
    "    tx.create(Relationship(node3,'SubClassOf',node2))\n",
    "\n",
    "tx.commit()"
   ]
  },
  {
   "cell_type": "markdown",
   "metadata": {},
   "source": [
    "#### 4-digit-code"
   ]
  },
  {
   "cell_type": "code",
   "execution_count": 16,
   "metadata": {},
   "outputs": [],
   "source": [
    "# Connect database.(set your own password)\n",
    "g = Graph(host='localhost',user='neo4j',password='1234')\n",
    "tx = g.begin()\n",
    "matcher = NodeMatcher(g)\n",
    "\n",
    "# Create 4-digit-code Node.\n",
    "for code in code4:\n",
    "    node4 = Create_Code_Node(code)\n",
    "    node3 = matcher.match('NAICS', code=code[:-1]).first()\n",
    "    tx.create(Relationship(node4,'SubClassOf',node3))\n",
    "\n",
    "tx.commit()"
   ]
  },
  {
   "cell_type": "markdown",
   "metadata": {},
   "source": [
    "#### 5-digit-code"
   ]
  },
  {
   "cell_type": "code",
   "execution_count": 17,
   "metadata": {},
   "outputs": [],
   "source": [
    "# Connect database.(set your own password)\n",
    "g = Graph(host='localhost',user='neo4j',password='1234')\n",
    "tx = g.begin()\n",
    "matcher = NodeMatcher(g)\n",
    "\n",
    "# Create 5-digit-code Node.\n",
    "for code in code5:\n",
    "    node5 = Create_Code_Node(code)\n",
    "    node4 = matcher.match('NAICS', code=code[:-1]).first()\n",
    "    tx.create(Relationship(node5,'SubClassOf',node4))\n",
    "\n",
    "tx.commit()"
   ]
  },
  {
   "cell_type": "markdown",
   "metadata": {},
   "source": [
    "#### 6-digit-code"
   ]
  },
  {
   "cell_type": "code",
   "execution_count": 18,
   "metadata": {},
   "outputs": [],
   "source": [
    "# Connect database.(set your own password)\n",
    "g = Graph(host='localhost',user='neo4j',password='1234')\n",
    "tx = g.begin()\n",
    "matcher = NodeMatcher(g)\n",
    "\n",
    "# Create 5-digit-code Node.\n",
    "for code in code6:\n",
    "    node6 = Create_Code_Node(code)\n",
    "    node5 = matcher.match('NAICS', code=code[:-1]).first()\n",
    "    tx.create(Relationship(node6,'SubClassOf',node5))\n",
    "\n",
    "tx.commit()"
   ]
  },
  {
   "cell_type": "markdown",
   "metadata": {},
   "source": [
    "#### Create relationships between company and 6-digit-code."
   ]
  },
  {
   "cell_type": "code",
   "execution_count": 19,
   "metadata": {},
   "outputs": [],
   "source": [
    "# Connect database.(set your own password)\n",
    "g = Graph(host='localhost',user='neo4j',password='1234')\n",
    "tx = g.begin()\n",
    "\n",
    "# Create relationships.\n",
    "matcher = NodeMatcher(g)\n",
    "for company in company_code:\n",
    "    CompanyNode = matcher.match('Company', name=company).first()\n",
    "    CodeNode = matcher.match('NAICS', code=company_code[company]).first()\n",
    "    tx.create(Relationship(CodeNode,'COMPANY',CompanyNode))\n",
    "    \n",
    "tx.commit()"
   ]
  },
  {
   "cell_type": "code",
   "execution_count": null,
   "metadata": {},
   "outputs": [],
   "source": []
  },
  {
   "cell_type": "code",
   "execution_count": null,
   "metadata": {},
   "outputs": [],
   "source": []
  },
  {
   "cell_type": "code",
   "execution_count": null,
   "metadata": {},
   "outputs": [],
   "source": []
  },
  {
   "cell_type": "code",
   "execution_count": null,
   "metadata": {},
   "outputs": [],
   "source": []
  }
 ],
 "metadata": {
  "kernelspec": {
   "display_name": "Python 3",
   "language": "python",
   "name": "python3"
  },
  "language_info": {
   "codemirror_mode": {
    "name": "ipython",
    "version": 3
   },
   "file_extension": ".py",
   "mimetype": "text/x-python",
   "name": "python",
   "nbconvert_exporter": "python",
   "pygments_lexer": "ipython3",
   "version": "3.6.5"
  }
 },
 "nbformat": 4,
 "nbformat_minor": 2
}
