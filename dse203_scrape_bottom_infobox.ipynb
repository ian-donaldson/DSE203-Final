{
 "cells": [
  {
   "cell_type": "code",
   "execution_count": 215,
   "metadata": {},
   "outputs": [],
   "source": [
    "import requests\n",
    "from bs4 import BeautifulSoup as BS\n",
    "import json"
   ]
  },
  {
   "cell_type": "code",
   "execution_count": 216,
   "metadata": {},
   "outputs": [],
   "source": [
    "# list of urls\n",
    "d = {}\n",
    "urls = [\n",
    "        'https://en.wikipedia.org/wiki/Amazon_(company)', \n",
    "        'https://en.wikipedia.org/wiki/Alibaba_Group', \n",
    "        'https://en.wikipedia.org/wiki/EBay',\n",
    "        'https://en.wikipedia.org/wiki/Walmart'\n",
    "       ]\n",
    "\n",
    "\n",
    "# layout of wiki page is standardized\n",
    "# text content is all in p tags\n",
    "bottom_info_data = {}\n",
    "for u in urls:\n",
    "    \n",
    "    # dictionary to to hold text information by url\n",
    "    # in case we try and crawl all on a central notebook\n",
    "    d[u] = []\n",
    "    wiki_pg = requests.get(u)\n",
    "    soup = BS(wiki_pg.content, 'lxml')\n",
    "    for content in soup.select(\"p\"):\n",
    "        # adding to list\n",
    "        d[u].append(content.text)\n",
    "    \n",
    "    #grabbing bottom box\n",
    "    \n",
    "\n",
    "\n",
    "    #hard to get just top level TR in bottom info box\n",
    "    bottom_info_table = soup.select(\".navbox .expanded.nowraplinks.mw-collapsible.navbox-inner > tbody > tr\")\n",
    "\n",
    "    if len(bottom_info_table) == 0:\n",
    "        bottom_info_table = soup.select(\".navbox .nowraplinks.mw-collapsible.navbox-inner > tbody > tr\")\n",
    "        \n",
    "    top_level_header = bottom_info_table[0].text.replace('vte', '')\n",
    "    bottom_info_data[ top_level_header] = {}\n",
    "    for tr in bottom_info_table[1:]:\n",
    "        header = tr.select_one(\"th\")\n",
    "        #exception is ebays weird structure, may need to add more if encounter\n",
    "        if u == 'https://en.wikipedia.org/wiki/EBay':\n",
    "            bottom_info_data[\"Ebay\"] = { top_level_header: []}\n",
    "            del bottom_info_data[top_level_header]\n",
    "            bottom_info_data[\"Ebay\"][ top_level_header] = [x.text.replace(\"\\n\", \"(\", 1).replace(\"\\n\", \",\") for x in tr.select(\"td > div > ul > li\")]\n",
    "            break\n",
    "            #some dont have headers\n",
    "        if header:\n",
    "\n",
    "            if \"vte\" in header.text:\n",
    "                break\n",
    "            bottom_info_data[ top_level_header][header.text] = {}\n",
    "            \n",
    "            #these only seem to go two level deep from what i see, if it's more than 2 , prob need to make it recursive\n",
    "            isNested = tr.select_one(\"table\")\n",
    "# \n",
    "            if not isNested:\n",
    "                #json structure \n",
    "                bottom_info_data[ top_level_header][header.text] = [x.text.replace(\"\\n\", \"(\", 1).replace(\"\\n\", \",\") for x in tr.select(\"td > div > ul > li\")]\n",
    "            \n",
    "            if isNested:\n",
    "                nested_tr = tr.select('tr')\n",
    "                \n",
    "                for ntr in nested_tr:\n",
    "                    nested_header = ntr.select_one(\"th\").text\n",
    "                    bottom_info_data[top_level_header][header.text][nested_header] = [x.text.replace(\"\\n\", \"(\", 1).replace(\"\\n\", \",\") for x in ntr.select(\"td > div > ul > li\")]\n",
    "       \n",
    "\n",
    "#print to file\n",
    "with open('bottominfobox.txt', 'w') as outfile:\n",
    "    json.dump(bottom_info_data, outfile)\n",
    "\n"
   ]
  },
  {
   "cell_type": "code",
   "execution_count": null,
   "metadata": {},
   "outputs": [],
   "source": []
  },
  {
   "cell_type": "code",
   "execution_count": null,
   "metadata": {},
   "outputs": [],
   "source": []
  },
  {
   "cell_type": "code",
   "execution_count": null,
   "metadata": {},
   "outputs": [],
   "source": []
  }
 ],
 "metadata": {
  "kernelspec": {
   "display_name": "Python 3",
   "language": "python",
   "name": "python3"
  },
  "language_info": {
   "codemirror_mode": {
    "name": "ipython",
    "version": 3
   },
   "file_extension": ".py",
   "mimetype": "text/x-python",
   "name": "python",
   "nbconvert_exporter": "python",
   "pygments_lexer": "ipython3",
   "version": "3.6.5"
  }
 },
 "nbformat": 4,
 "nbformat_minor": 2
}
