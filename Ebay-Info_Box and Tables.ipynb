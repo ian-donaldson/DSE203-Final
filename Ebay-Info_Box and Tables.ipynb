{
 "cells": [
  {
   "cell_type": "code",
   "execution_count": 5,
   "metadata": {},
   "outputs": [
    {
     "name": "stderr",
     "output_type": "stream",
     "text": [
      "[nltk_data] Downloading package wordnet to\n",
      "[nltk_data]     /Users/faezehghazi/nltk_data...\n",
      "[nltk_data]   Package wordnet is already up-to-date!\n"
     ]
    }
   ],
   "source": [
    "import requests\n",
    "from bs4 import BeautifulSoup as BS\n",
    "import nltk\n",
    "import urllib.request\n",
    "import spacy\n",
    "import textacy\n",
    "from spacy import displacy\n",
    "from urllib.request import urlopen\n",
    "from sys import argv\n",
    "import wikipedia\n",
    "import csv\n",
    "import re\n",
    "import logging\n",
    "import gensim\n",
    "import pkgutil\n",
    "import sys\n",
    "from gensim.utils import lemmatize\n",
    "from nltk.stem import WordNetLemmatizer\n",
    "nltk.download('wordnet')\n",
    "import pandas as pd"
   ]
  },
  {
   "cell_type": "code",
   "execution_count": 9,
   "metadata": {},
   "outputs": [],
   "source": [
    "url = \"https://en.wikipedia.org/wiki/EBay\"    \n",
    "html = urlopen(url).read() \n",
    "website_url = requests.get('https://en.wikipedia.org/wiki/EBay').text\n",
    "soup = BS(website_url,'lxml')\n",
    "#print(soup.prettify())\n",
    "### Extract the text of the Wikipedia Page\n",
    "respond = requests.get(\"https://en.wikipedia.org/wiki/EBay\")\n",
    "ss = BS(respond.text)\n"
   ]
  },
  {
   "cell_type": "markdown",
   "metadata": {},
   "source": [
    "Answer your question\n",
    "Our question was 'What are the most frequent words in the Ebay and how often do they occur?'"
   ]
  },
  {
   "cell_type": "markdown",
   "metadata": {},
   "source": [
    "### Extract the InfoBox of Ebay\n",
    "###### Solution1)"
   ]
  },
  {
   "cell_type": "code",
   "execution_count": 17,
   "metadata": {},
   "outputs": [
    {
     "name": "stdout",
     "output_type": "stream",
     "text": [
      "{\n",
      "    \"Area served\": \"Worldwide\",\n",
      "    \"Founded\": \"September\\u00a03, 1995; 24 years ago(1995-09-03)(Originally asAuctionWeb)\",\n",
      "    \"Founder\": \"Pierre Omidyar\",\n",
      "    \"Headquarters\": \"San Jose, California, U.S.\",\n",
      "    \"ISIN\": \"US2786421030\",\n",
      "    \"Industry\": \"Internet\",\n",
      "    \"Key people\": \"Thomas J. Tierney(Chairman)Scott Schenkel(interimCEO)\",\n",
      "    \"Net income\": \"US$2.530 billion(2018)[1]\",\n",
      "    \"Number of employees\": \"~14,000(December 2018)[1]\",\n",
      "    \"Operating income\": \"US$2.222 billion(2018)[1]\",\n",
      "    \"Owner\": \"Pierre Omidyar(0.0652),The Vanguard Group(0.0621),BlackRock(0.0561)\",\n",
      "    \"Revenue\": \"US$10.746 billion(2018)[1]\",\n",
      "    \"Services\": \"Online shopping\",\n",
      "    \"Subsidiaries\": \"Auction Co.,eBayClassifieds,Kijiji,iBazar,GittiGidiyor,Gumtree,G-Market,StubHub,Half.com,Marktplaats.nl, Qoo10.jp\",\n",
      "    \"Total assets\": \"US$22.819 billion(2018)[1]\",\n",
      "    \"Total equity\": \"US$6.281 billion(2018)[1]\",\n",
      "    \"Traded\\u00a0as\": \"NASDAQ:EBAY\\nNASDAQ-100 Component\\nS&P 500 Component\",\n",
      "    \"Type\": \"Public\",\n",
      "    \"Website\": \"www.ebay.com\"\n",
      "}\n"
     ]
    }
   ],
   "source": [
    "import json\n",
    "tbl = soup.find(\"table\", {\"class\": \"infobox vcard\"})\n",
    "\n",
    "list_of_table_rows = tbl.findAll('tr')\n",
    "x = {}\n",
    "for tr in list_of_table_rows:\n",
    "\n",
    "        th = tr.find(\"th\")\n",
    "        td = tr.find(\"td\")\n",
    "        if th is not None:\n",
    "            innerText = ''\n",
    "            for elem in td.recursiveChildGenerator():\n",
    "                if isinstance(elem, str):\n",
    "                    innerText += elem.strip()\n",
    "                elif elem.name == 'br':\n",
    "                    innerText += '\\n'\n",
    "            x[th.text] = innerText\n",
    "sorted_string = json.dumps(x, indent=4,sort_keys=True)\n",
    "print(sorted_string)"
   ]
  },
  {
   "cell_type": "markdown",
   "metadata": {},
   "source": [
    "### Output Json file"
   ]
  },
  {
   "cell_type": "code",
   "execution_count": 21,
   "metadata": {},
   "outputs": [],
   "source": [
    "import json\n",
    "with open('data.json', 'w') as f:\n",
    "    json.dump(sorted_string, f)"
   ]
  },
  {
   "cell_type": "markdown",
   "metadata": {},
   "source": [
    "# Extract The Table of Wikipedia Page"
   ]
  },
  {
   "cell_type": "markdown",
   "metadata": {},
   "source": [
    "Now to extract all the links within , we will use find_all()."
   ]
  },
  {
   "cell_type": "code",
   "execution_count": 7,
   "metadata": {},
   "outputs": [],
   "source": [
    "table = soup.find('table', attrs={'class': 'wikitable'})  # find the table\n",
    "Year= []\n",
    "Revenue = []\n",
    "Net_income= []\n",
    "Totall_Asset=[]\n",
    "Price_Per_Share=[]\n",
    "Employee=[]\n",
    "for row in table.find_all('tr')[1:]:  # iterate over the rows, starting from \n",
    "    col_0= row.find_all('td')[0]                                 # the second (first one is the header row)\n",
    "    col_1 = row.find_all('td')[1] #  the Symbol col is the first <td> in every row \n",
    "    col_2= row.find_all('td')[2]\n",
    "    col_3= row.find_all('td')[3]\n",
    "    col_4= row.find_all('td')[4]\n",
    "    Year.append(col_0.text)\n",
    "    Revenue.append(col_1.text)\n",
    "    Net_income.append(col_2.text)\n",
    "    Totall_Asset.append(col_3.text)\n",
    "    Employee.append(col_4.text)\n",
    "#print(type(tickers))\n",
    "#Revenue = [i for i in map(lambda s: s.strip(), Revenue)]\n",
    "Year=list(map(str.strip,Year))\n",
    "Revenue=list(map(str.strip,Revenue))\n",
    "Net_income=list(map(str.strip,Net_income))\n",
    "Totall_Asset=list(map(str.strip,Totall_Asset))\n",
    "Price_Per_Share=list(map(str.strip,Price_Per_Share))\n",
    "Employee=list(map(str.strip,Employee))\n",
    "# ['MMM', 'ABT', 'ABBV', 'ACN', 'ATVI', 'AYI', 'ADBE'"
   ]
  },
  {
   "cell_type": "code",
   "execution_count": 8,
   "metadata": {},
   "outputs": [
    {
     "data": {
      "text/html": [
       "<div>\n",
       "<style scoped>\n",
       "    .dataframe tbody tr th:only-of-type {\n",
       "        vertical-align: middle;\n",
       "    }\n",
       "\n",
       "    .dataframe tbody tr th {\n",
       "        vertical-align: top;\n",
       "    }\n",
       "\n",
       "    .dataframe thead th {\n",
       "        text-align: right;\n",
       "    }\n",
       "</style>\n",
       "<table border=\"1\" class=\"dataframe\">\n",
       "  <thead>\n",
       "    <tr style=\"text-align: right;\">\n",
       "      <th></th>\n",
       "      <th>Year</th>\n",
       "      <th>Revenue</th>\n",
       "      <th>Net_income</th>\n",
       "      <th>Totall_Asset</th>\n",
       "      <th>Employee</th>\n",
       "    </tr>\n",
       "  </thead>\n",
       "  <tbody>\n",
       "    <tr>\n",
       "      <th>0</th>\n",
       "      <td>2005[55]</td>\n",
       "      <td>4,552</td>\n",
       "      <td>1,082</td>\n",
       "      <td>11,789</td>\n",
       "      <td>15.65</td>\n",
       "    </tr>\n",
       "    <tr>\n",
       "      <th>1</th>\n",
       "      <td>2006[56]</td>\n",
       "      <td>5,970</td>\n",
       "      <td>1,126</td>\n",
       "      <td>13,494</td>\n",
       "      <td>13.00</td>\n",
       "    </tr>\n",
       "    <tr>\n",
       "      <th>2</th>\n",
       "      <td>2007[57]</td>\n",
       "      <td>7,672</td>\n",
       "      <td>348</td>\n",
       "      <td>15,366</td>\n",
       "      <td>13.25</td>\n",
       "    </tr>\n",
       "    <tr>\n",
       "      <th>3</th>\n",
       "      <td>2008[58]</td>\n",
       "      <td>8,541</td>\n",
       "      <td>1,779</td>\n",
       "      <td>15,592</td>\n",
       "      <td>9.58</td>\n",
       "    </tr>\n",
       "    <tr>\n",
       "      <th>4</th>\n",
       "      <td>2009[59]</td>\n",
       "      <td>8,727</td>\n",
       "      <td>2,389</td>\n",
       "      <td>18,408</td>\n",
       "      <td>7.29</td>\n",
       "    </tr>\n",
       "    <tr>\n",
       "      <th>5</th>\n",
       "      <td>2010[60]</td>\n",
       "      <td>9,156</td>\n",
       "      <td>1,801</td>\n",
       "      <td>22,004</td>\n",
       "      <td>9.68</td>\n",
       "    </tr>\n",
       "    <tr>\n",
       "      <th>6</th>\n",
       "      <td>2011[61]</td>\n",
       "      <td>11,652</td>\n",
       "      <td>3,229</td>\n",
       "      <td>27,320</td>\n",
       "      <td>12.28</td>\n",
       "    </tr>\n",
       "    <tr>\n",
       "      <th>7</th>\n",
       "      <td>2012[62]</td>\n",
       "      <td>14,072</td>\n",
       "      <td>2,609</td>\n",
       "      <td>37,074</td>\n",
       "      <td>16.61</td>\n",
       "    </tr>\n",
       "    <tr>\n",
       "      <th>8</th>\n",
       "      <td>2013[63]</td>\n",
       "      <td>16,047</td>\n",
       "      <td>2,856</td>\n",
       "      <td>41,488</td>\n",
       "      <td>21.03</td>\n",
       "    </tr>\n",
       "    <tr>\n",
       "      <th>9</th>\n",
       "      <td>2014[64]</td>\n",
       "      <td>8,790</td>\n",
       "      <td>46</td>\n",
       "      <td>45,132</td>\n",
       "      <td>21.01</td>\n",
       "    </tr>\n",
       "    <tr>\n",
       "      <th>10</th>\n",
       "      <td>2015[65]</td>\n",
       "      <td>8,592</td>\n",
       "      <td>1,725</td>\n",
       "      <td>17,755</td>\n",
       "      <td>25.00</td>\n",
       "    </tr>\n",
       "    <tr>\n",
       "      <th>11</th>\n",
       "      <td>2016[66]</td>\n",
       "      <td>8,979</td>\n",
       "      <td>7,266</td>\n",
       "      <td>23,847</td>\n",
       "      <td>27.08</td>\n",
       "    </tr>\n",
       "    <tr>\n",
       "      <th>12</th>\n",
       "      <td>2017[67]</td>\n",
       "      <td>9,567</td>\n",
       "      <td>−1,016</td>\n",
       "      <td>25,981</td>\n",
       "      <td>35.06</td>\n",
       "    </tr>\n",
       "    <tr>\n",
       "      <th>13</th>\n",
       "      <td>2018[68]</td>\n",
       "      <td>10,746</td>\n",
       "      <td>2,530</td>\n",
       "      <td>22,819</td>\n",
       "      <td>34.31</td>\n",
       "    </tr>\n",
       "  </tbody>\n",
       "</table>\n",
       "</div>"
      ],
      "text/plain": [
       "        Year Revenue Net_income Totall_Asset Employee\n",
       "0   2005[55]   4,552      1,082       11,789    15.65\n",
       "1   2006[56]   5,970      1,126       13,494    13.00\n",
       "2   2007[57]   7,672        348       15,366    13.25\n",
       "3   2008[58]   8,541      1,779       15,592     9.58\n",
       "4   2009[59]   8,727      2,389       18,408     7.29\n",
       "5   2010[60]   9,156      1,801       22,004     9.68\n",
       "6   2011[61]  11,652      3,229       27,320    12.28\n",
       "7   2012[62]  14,072      2,609       37,074    16.61\n",
       "8   2013[63]  16,047      2,856       41,488    21.03\n",
       "9   2014[64]   8,790         46       45,132    21.01\n",
       "10  2015[65]   8,592      1,725       17,755    25.00\n",
       "11  2016[66]   8,979      7,266       23,847    27.08\n",
       "12  2017[67]   9,567     −1,016       25,981    35.06\n",
       "13  2018[68]  10,746      2,530       22,819    34.31"
      ]
     },
     "execution_count": 8,
     "metadata": {},
     "output_type": "execute_result"
    }
   ],
   "source": [
    "df=pd.DataFrame()\n",
    "df['Year']= Year\n",
    "df['Revenue']= Revenue\n",
    "df['Net_income']= Net_income\n",
    "df['Totall_Asset']= Totall_Asset\n",
    "df['Employee']= Employee\n",
    "df"
   ]
  },
  {
   "cell_type": "markdown",
   "metadata": {},
   "source": [
    "### Output CSV file"
   ]
  },
  {
   "cell_type": "code",
   "execution_count": 13,
   "metadata": {},
   "outputs": [],
   "source": [
    "df.to_csv(\"Ebay_table\", sep='|', header=True, index=False) "
   ]
  },
  {
   "cell_type": "code",
   "execution_count": null,
   "metadata": {},
   "outputs": [],
   "source": []
  }
 ],
 "metadata": {
  "kernelspec": {
   "display_name": "Python 3",
   "language": "python",
   "name": "python3"
  },
  "language_info": {
   "codemirror_mode": {
    "name": "ipython",
    "version": 3
   },
   "file_extension": ".py",
   "mimetype": "text/x-python",
   "name": "python",
   "nbconvert_exporter": "python",
   "pygments_lexer": "ipython3",
   "version": "3.8.0"
  }
 },
 "nbformat": 4,
 "nbformat_minor": 2
}
